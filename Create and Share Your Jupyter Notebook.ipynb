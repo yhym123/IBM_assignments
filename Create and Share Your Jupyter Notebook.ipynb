{
  "metadata": {
    "kernelspec": {
      "name": "python",
      "display_name": "Pyolite",
      "language": "python"
    },
    "language_info": {
      "codemirror_mode": {
        "name": "python",
        "version": 3
      },
      "file_extension": ".py",
      "mimetype": "text/x-python",
      "name": "python",
      "nbconvert_exporter": "python",
      "pygments_lexer": "ipython3",
      "version": "3.8"
    }
  },
  "nbformat_minor": 4,
  "nbformat": 4,
  "cells": [
    {
      "cell_type": "markdown",
      "source": "<center>\n    <img src=\"https://s3-api.us-geo.objectstorage.softlayer.net/cf-courses-data/CognitiveClass/Logos/organization_logo/organization_logo.png\" width=\"300\" alt=\"cognitiveclass.ai logo\"  />\n</center>\n",
      "metadata": {}
    },
    {
      "cell_type": "markdown",
      "source": "#### Add your code below following the instructions given in the course\n",
      "metadata": {}
    },
    {
      "cell_type": "markdown",
      "source": "# My Jupyter Notebook on IBM Watson Studio",
      "metadata": {}
    },
    {
      "cell_type": "markdown",
      "source": "**YOUSSEF MAHMOUD** \n\nOperation Research(future)",
      "metadata": {}
    },
    {
      "cell_type": "markdown",
      "source": "*I am interested in data science because I find it to be the pure embodiment of general problem solving, as when handeling by a smart enough person, data science has almost infinite possibilities.*",
      "metadata": {}
    },
    {
      "cell_type": "markdown",
      "source": "### the puropse of the following code is to add 1 and 3, creating 4, and then dividing the result by 4, resulting in 1.",
      "metadata": {}
    },
    {
      "cell_type": "code",
      "source": "print((1+3)/4)",
      "metadata": {
        "trusted": true
      },
      "execution_count": 2,
      "outputs": [
        {
          "name": "stdout",
          "text": "1.0\n",
          "output_type": "stream"
        }
      ]
    },
    {
      "cell_type": "markdown",
      "source": "(<a href=\"https://google.at\">text</a>\n\n\n1. trust\n2. in\n3. \n\n- or \n- something \n- else",
      "metadata": {}
    },
    {
      "cell_type": "code",
      "source": "",
      "metadata": {},
      "execution_count": null,
      "outputs": []
    }
  ]
}